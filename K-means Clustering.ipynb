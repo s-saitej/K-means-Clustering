{
 "cells": [
  {
   "cell_type": "markdown",
   "metadata": {},
   "source": [
    "# Breaking Network Detection (CyberSecurity)"
   ]
  },
  {
   "cell_type": "markdown",
   "metadata": {},
   "source": [
    "## K-Means Clustering"
   ]
  },
  {
   "cell_type": "markdown",
   "metadata": {},
   "source": [
    "### Algorithm:\n",
    "\n",
    "\n",
    "\n",
    "##### K-means clustering works as follows\n",
    "\n",
    "$step1:$ Plot the all points on a Graph \n",
    "\n",
    "\n",
    "\n",
    "$$\n",
    "(x1,x2,x3,x4,x5,........xn)\n",
    "$$\n",
    "\n",
    "\n",
    "\n",
    "\n",
    "$step2:$ Now consider k centroids and distribute them all along the graph\n",
    "\n",
    "\n",
    "\n",
    "$$\n",
    "(c1,c2,c3,c4,...........ck)\n",
    "$$\n",
    "\n",
    "\n",
    "\n",
    "\n",
    "\n",
    "$step3:$ Now find the distance between each point and all the centroids. The minimum distance between each point and centroid are considered. Thus we would know that the point belong to that centroid cluster.\n",
    "The distance between centroid and point is given by euclid distance,\n",
    "\n",
    "\n",
    "\n",
    "$$\n",
    "(distance)^2 = (x2-x1)^2 + (y2-y1)^2\n",
    "$$\n",
    "\n",
    "\n",
    "\n",
    "\n",
    "\n",
    "$step4:$ Repeat this process untill all the points are mapped to their corresponding clusters. Thus grouping takes place."
   ]
  },
  {
   "cell_type": "code",
   "execution_count": 2,
   "metadata": {},
   "outputs": [],
   "source": [
    "import numpy as np"
   ]
  },
  {
   "cell_type": "code",
   "execution_count": 3,
   "metadata": {},
   "outputs": [],
   "source": [
    "data = np.loadtxt('durudataset.txt')"
   ]
  },
  {
   "cell_type": "code",
   "execution_count": 4,
   "metadata": {},
   "outputs": [
    {
     "name": "stdout",
     "output_type": "stream",
     "text": [
      "[[0.19670575 0.26617497]\n",
      " [0.41328699 0.35582835]\n",
      " [0.33843555 0.43573826]\n",
      " [0.10380152 0.16434481]\n",
      " [0.15905236 0.32505901]\n",
      " [0.06690549 0.48741807]\n",
      " [0.33573144 0.03798368]\n",
      " [0.28549554 0.29350958]\n",
      " [0.08488353 0.20694325]\n",
      " [0.07382789 0.15456821]\n",
      " [0.23803986 0.13191702]\n",
      " [0.45405121 0.37938313]\n",
      " [0.27608751 0.49760799]\n",
      " [0.01646995 0.09328572]\n",
      " [0.02693146 0.39057263]\n",
      " [0.40253161 0.09789899]\n",
      " [0.22568743 0.49617949]\n",
      " [0.19132311 0.40113078]\n",
      " [0.39482185 0.21211335]\n",
      " [0.18214343 0.36443193]\n",
      " [1.49835358 1.40350139]\n",
      " [1.80899027 1.93497909]\n",
      " [1.35650893 1.47948455]\n",
      " [1.07324343 1.23179161]\n",
      " [1.59099146 1.39629025]\n",
      " [1.91018783 1.70507748]\n",
      " [1.19376594 1.55855903]\n",
      " [1.43236779 1.7566307 ]\n",
      " [1.74915973 1.99548106]\n",
      " [1.03918449 1.9624314 ]\n",
      " [1.94632499 1.53506711]\n",
      " [1.76367332 1.96387013]\n",
      " [1.55882055 1.11562588]\n",
      " [1.18384294 1.05144829]\n",
      " [1.49794882 1.30434895]\n",
      " [1.5178456  1.58019183]\n",
      " [1.99424301 1.53096445]\n",
      " [1.85485168 1.90120809]\n",
      " [1.96240394 1.54055043]\n",
      " [1.67894101 1.43198061]]\n"
     ]
    }
   ],
   "source": [
    "print(data)"
   ]
  },
  {
   "cell_type": "code",
   "execution_count": 8,
   "metadata": {},
   "outputs": [],
   "source": [
    "from sklearn.cluster import KMeans"
   ]
  },
  {
   "cell_type": "code",
   "execution_count": 38,
   "metadata": {},
   "outputs": [],
   "source": [
    "data_var = KMeans(n_clusters = 3)"
   ]
  },
  {
   "cell_type": "code",
   "execution_count": 39,
   "metadata": {},
   "outputs": [],
   "source": [
    "result = data_var.fit_predict(data)"
   ]
  },
  {
   "cell_type": "code",
   "execution_count": 40,
   "metadata": {},
   "outputs": [
    {
     "data": {
      "text/plain": [
       "array([[1.38515121, 1.43935704],\n",
       "       [0.22331067, 0.28960446],\n",
       "       [1.87372935, 1.76339973]])"
      ]
     },
     "execution_count": 40,
     "metadata": {},
     "output_type": "execute_result"
    }
   ],
   "source": [
    "data_var.cluster_centers_"
   ]
  },
  {
   "cell_type": "code",
   "execution_count": 41,
   "metadata": {},
   "outputs": [],
   "source": [
    "from matplotlib import pyplot as plt\n",
    "%matplotlib inline"
   ]
  },
  {
   "cell_type": "code",
   "execution_count": 44,
   "metadata": {},
   "outputs": [
    {
     "data": {
      "image/png": "[encoded data removed]",
      "text/plain": [
       "<matplotlib.figure.Figure at 0x86f0ff0>"
      ]
     },
     "metadata": {},
     "output_type": "display_data"
    }
   ],
   "source": [
    "plt.plot(result)\n",
    "plt.plot(data_var.cluster_centers_)\n",
    "plt.show()"
   ]
  },
  {
   "cell_type": "code",
   "execution_count": null,
   "metadata": {},
   "outputs": [],
   "source": []
  }
 ],
 "metadata": {
  "kernelspec": {
   "display_name": "Python 3",
   "language": "python",
   "name": "python3"
  },
  "language_info": {
   "codemirror_mode": {
    "name": "ipython",
    "version": 3
   },
   "file_extension": ".py",
   "mimetype": "text/x-python",
   "name": "python",
   "nbconvert_exporter": "python",
   "pygments_lexer": "ipython3",
   "version": "3.6.4"
  }
 },
 "nbformat": 4,
 "nbformat_minor": 2
}
